{
 "cells": [
  {
   "cell_type": "code",
   "execution_count": 1,
   "id": "destroyed-explosion",
   "metadata": {},
   "outputs": [],
   "source": [
    "from collections import defaultdict\n",
    "from dataclasses import dataclass\n",
    "from typing import List\n",
    "\n",
    "import cv2\n",
    "import numpy as np\n",
    "from sklearn.cluster import DBSCAN"
   ]
  },
  {
   "cell_type": "code",
   "execution_count": 2,
   "id": "human-dietary",
   "metadata": {},
   "outputs": [],
   "source": [
    "@dataclass\n",
    "class BBox:\n",
    "    x: int\n",
    "    y: int\n",
    "    w: int\n",
    "    h: int\n",
    "\n",
    "\n",
    "@dataclass\n",
    "class DetectorRes:\n",
    "    img: np.ndarray\n",
    "    bbox: BBox\n",
    "\n",
    "\n",
    "def detect(img: np.ndarray,\n",
    "           kernel_size: int,\n",
    "           sigma: float,\n",
    "           theta: float,\n",
    "           min_area: int) -> List[DetectorRes]:\n",
    "    \"\"\"Scale space technique for word segmentation proposed by R. Manmatha.\n",
    "    For details see paper http://ciir.cs.umass.edu/pubfiles/mm-27.pdf.\n",
    "    Args:\n",
    "        img: A grayscale uint8 image.\n",
    "        kernel_size: The size of the filter kernel, must be an odd integer.\n",
    "        sigma: Standard deviation of Gaussian function used for filter kernel.\n",
    "        theta: Approximated width/height ratio of words, filter function is distorted by this factor.\n",
    "        min_area: Ignore word candidates smaller than specified area.\n",
    "    Returns:\n",
    "        List of DetectorRes instances, each containing the bounding box and the word image.\n",
    "    \"\"\"\n",
    "    assert img.ndim == 2\n",
    "    assert img.dtype == np.uint8\n",
    "\n",
    "    # apply filter kernel\n",
    "    kernel = _compute_kernel(kernel_size, sigma, theta)\n",
    "    img_filtered = cv2.filter2D(img, -1, kernel, borderType=cv2.BORDER_REPLICATE).astype(np.uint8)\n",
    "    img_thres = 255 - cv2.threshold(img_filtered, 0, 255, cv2.THRESH_BINARY + cv2.THRESH_OTSU)[1]\n",
    "\n",
    "    # append components to result\n",
    "    res = []\n",
    "    components = cv2.findContours(img_thres, cv2.RETR_LIST, cv2.CHAIN_APPROX_SIMPLE)[0]\n",
    "    for c in components:\n",
    "        # skip small word candidates\n",
    "        if cv2.contourArea(c) < min_area:\n",
    "            continue\n",
    "        # append bounding box and image of word to result list\n",
    "        x, y, w, h = cv2.boundingRect(c)  # bounding box as tuple (x, y, w, h)\n",
    "        crop = img[y:y + h, x:x + w]\n",
    "        res.append(DetectorRes(crop, BBox(x, y, w, h)))\n",
    "\n",
    "    return res\n",
    "\n",
    "\n",
    "def _compute_kernel(kernel_size: int,\n",
    "                    sigma: float,\n",
    "                    theta: float) -> np.ndarray:\n",
    "    \"\"\"Compute anisotropic filter kernel.\"\"\"\n",
    "\n",
    "    assert kernel_size % 2  # must be odd size\n",
    "\n",
    "    # create coordinate grid\n",
    "    half_size = kernel_size // 2\n",
    "    xs = ys = np.linspace(-half_size, half_size, kernel_size)\n",
    "    x, y = np.meshgrid(xs, ys)\n",
    "\n",
    "    # compute sigma values in x and y direction, where theta is roughly the average x/y ratio of words\n",
    "    sigma_y = sigma\n",
    "    sigma_x = sigma_y * theta\n",
    "\n",
    "    # compute terms and combine them\n",
    "    exp_term = np.exp(-x ** 2 / (2 * sigma_x) - y ** 2 / (2 * sigma_y))\n",
    "    x_term = (x ** 2 - sigma_x ** 2) / (2 * np.math.pi * sigma_x ** 5 * sigma_y)\n",
    "    y_term = (y ** 2 - sigma_y ** 2) / (2 * np.math.pi * sigma_y ** 5 * sigma_x)\n",
    "    kernel = (x_term + y_term) * exp_term\n",
    "\n",
    "    # normalize and return kernel\n",
    "    kernel = kernel / np.sum(kernel)\n",
    "    return kernel\n",
    "\n",
    "\n",
    "def prepare_img(img: np.ndarray,\n",
    "                height: int) -> np.ndarray:\n",
    "    \"\"\"Convert image to grayscale image (if needed) and resize to given height.\"\"\"\n",
    "    assert img.ndim in (2, 3)\n",
    "    assert height > 0\n",
    "    assert img.dtype == np.uint8\n",
    "    if img.ndim == 3:\n",
    "        img = cv2.cvtColor(img, cv2.COLOR_BGR2GRAY)\n",
    "    h = img.shape[0]\n",
    "    factor = height / h\n",
    "    return cv2.resize(img, dsize=None, fx=factor, fy=factor)\n",
    "\n",
    "\n",
    "def _cluster_lines(detections: List[DetectorRes],\n",
    "                   max_dist: float = 0.7,\n",
    "                   min_words_per_line: int = 2) -> List[List[DetectorRes]]:\n",
    "    # compute matrix containing Jaccard distances (which is a proper metric)\n",
    "    num_bboxes = len(detections)\n",
    "    dist_mat = np.ones((num_bboxes, num_bboxes))\n",
    "    for i in range(num_bboxes):\n",
    "        for j in range(i, num_bboxes):\n",
    "            a = detections[i].bbox\n",
    "            b = detections[j].bbox\n",
    "            if a.y > b.y + b.h or b.y > a.y + a.h:\n",
    "                continue\n",
    "            intersection = min(a.y + a.h, b.y + b.h) - max(a.y, b.y)\n",
    "            union = a.h + b.h - intersection\n",
    "            iou = np.clip(intersection / union if union > 0 else 0, 0, 1)\n",
    "            dist_mat[i, j] = dist_mat[j, i] = 1 - iou  # Jaccard distance is defined as 1-iou\n",
    "\n",
    "    dbscan = DBSCAN(eps=max_dist, min_samples=min_words_per_line, metric='precomputed').fit(dist_mat)\n",
    "\n",
    "    clustered = defaultdict(list)\n",
    "    for i, cluster_id in enumerate(dbscan.labels_):\n",
    "        if cluster_id == -1:\n",
    "            continue\n",
    "        clustered[cluster_id].append(detections[i])\n",
    "\n",
    "    res = sorted(clustered.values(), key=lambda line: [det.bbox.y + det.bbox.h / 2 for det in line])\n",
    "    return res\n",
    "\n",
    "\n",
    "def sort_multiline(detections: List[DetectorRes],\n",
    "                   max_dist: float = 0.7,\n",
    "                   min_words_per_line: int = 2) -> List[List[DetectorRes]]:\n",
    "    \"\"\"Cluster detections into lines, then sort the lines according to x-coordinates of word centers.\n",
    "    Args:\n",
    "        detections: List of detections.\n",
    "        max_dist: Maximum Jaccard distance (0..1) between two y-projected words to be considered as neighbors.\n",
    "        min_words_per_line: If a line contains less words than specified, it is ignored.\n",
    "    Returns:\n",
    "        List of lines, each line itself a list of detections.\n",
    "    \"\"\"\n",
    "    lines = _cluster_lines(detections, max_dist, min_words_per_line)\n",
    "    res = []\n",
    "    for line in lines:\n",
    "        res += sort_line(line)\n",
    "    return res\n",
    "\n",
    "\n",
    "def sort_line(detections: List[DetectorRes]) -> List[List[DetectorRes]]:\n",
    "    \"\"\"Sort the list of detections according to x-coordinates of word centers.\"\"\"\n",
    "    return [sorted(detections, key=lambda det: det.bbox.x + det.bbox.w / 2)]"
   ]
  },
  {
   "cell_type": "code",
   "execution_count": 3,
   "id": "inside-manitoba",
   "metadata": {},
   "outputs": [],
   "source": [
    "import matplotlib.pyplot as plt\n",
    "import cv2"
   ]
  },
  {
   "cell_type": "code",
   "execution_count": 4,
   "id": "banner-ranch",
   "metadata": {},
   "outputs": [],
   "source": [
    "img = prepare_img(cv2.imread('DSS_binarized/P168-Fg016-R-C01-R01-binarized.jpg'), 50)"
   ]
  },
  {
   "cell_type": "code",
   "execution_count": 6,
   "id": "thick-shame",
   "metadata": {},
   "outputs": [],
   "source": [
    "# (2) detect words in image\n",
    "detections = detect(img,\n",
    "                    kernel_size=25,\n",
    "                    sigma=11,\n",
    "                    theta=7,\n",
    "                    min_area=100)"
   ]
  },
  {
   "cell_type": "code",
   "execution_count": 7,
   "id": "universal-uzbekistan",
   "metadata": {},
   "outputs": [],
   "source": [
    "# (3) sort words in line\n",
    "line = sort_line(detections)[0]"
   ]
  },
  {
   "cell_type": "code",
   "execution_count": 8,
   "id": "important-flexibility",
   "metadata": {},
   "outputs": [
    {
     "data": {
      "text/plain": [
       "<matplotlib.image.AxesImage at 0x1b59b3b38b0>"
      ]
     },
     "execution_count": 8,
     "metadata": {},
     "output_type": "execute_result"
    },
    {
     "data": {
      "image/png": "[encoded data removed]",
      "text/plain": [
       "<Figure size 432x288 with 1 Axes>"
      ]
     },
     "metadata": {
      "needs_background": "light"
     },
     "output_type": "display_data"
    }
   ],
   "source": [
    "# (4) show word images\n",
    "plt.subplot(len(line), len(line), 1)\n",
    "plt.imshow(img, cmap='gray')\n"
   ]
  },
  {
   "cell_type": "code",
   "execution_count": 9,
   "id": "australian-ethnic",
   "metadata": {},
   "outputs": [
    {
     "name": "stdout",
     "output_type": "stream",
     "text": [
      "BBox(x=6, y=18, w=28, h=21)\n"
     ]
    },
    {
     "data": {
      "image/png": "[encoded data removed]",
      "text/plain": [
       "<Figure size 432x288 with 1 Axes>"
      ]
     },
     "metadata": {
      "needs_background": "light"
     },
     "output_type": "display_data"
    }
   ],
   "source": [
    "for i, word in enumerate(line):\n",
    "  print(word.bbox)\n",
    "  plt.subplot(len(line), len(line), i + 1)\n",
    "  plt.imshow(word.img, cmap='gray')\n",
    "plt.savefig(\"jemp.jpg\")\n",
    "plt.show()\n"
   ]
  }
 ],
 "metadata": {
  "kernelspec": {
   "display_name": "Python 3 (ipykernel)",
   "language": "python",
   "name": "python3"
  },
  "language_info": {
   "codemirror_mode": {
    "name": "ipython",
    "version": 3
   },
   "file_extension": ".py",
   "mimetype": "text/x-python",
   "name": "python",
   "nbconvert_exporter": "python",
   "pygments_lexer": "ipython3",
   "version": "3.10.4"
  }
 },
 "nbformat": 4,
 "nbformat_minor": 5
}
