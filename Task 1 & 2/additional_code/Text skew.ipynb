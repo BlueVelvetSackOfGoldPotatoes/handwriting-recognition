{
 "cells": [
  {
   "cell_type": "code",
   "execution_count": 1,
   "id": "middle-headquarters",
   "metadata": {},
   "outputs": [],
   "source": [
    "# import the necessary packages\n",
    "import numpy as np\n",
    "import argparse\n",
    "import cv2\n",
    "# construct the argument parse and parse the arguments\n",
    "ap = argparse.ArgumentParser()\n",
    "import sys\n",
    "import numpy as np\n",
    "from PIL import Image as im\n",
    "from scipy.ndimage import interpolation as inter\n",
    "from matplotlib import pyplot as plt"
   ]
  },
  {
   "cell_type": "code",
   "execution_count": 2,
   "id": "painful-contamination",
   "metadata": {},
   "outputs": [
    {
     "name": "stdout",
     "output_type": "stream",
     "text": [
      "2706 3608\n"
     ]
    }
   ],
   "source": [
    "img = im.open(\"DSS_Binarized/P168-Fg016-R-C01-R01-binarized.jpg\")\n",
    "wd, ht = img.size\n",
    "print(wd, ht)"
   ]
  },
  {
   "cell_type": "code",
   "execution_count": 3,
   "id": "related-architecture",
   "metadata": {},
   "outputs": [
    {
     "name": "stderr",
     "output_type": "stream",
     "text": [
      "C:\\Users\\david\\AppData\\Local\\Temp\\ipykernel_8872\\899130080.py:2: DeprecationWarning: Please use `rotate` from the `scipy.ndimage` namespace, the `scipy.ndimage.interpolation` namespace is deprecated.\n",
      "  data = inter.rotate(arr, angle, reshape=False, order=0)\n"
     ]
    }
   ],
   "source": [
    "def find_score(arr, angle):\n",
    "    data = inter.rotate(arr, angle, reshape=False, order=0)\n",
    "    hist = np.sum(data, axis=1)\n",
    "    score = np.sum((hist[1:] - hist[:-1]) ** 2)\n",
    "    return hist, score\n",
    "\n",
    "delta = 1\n",
    "limit = 5\n",
    "angles = np.arange(-limit, limit+delta, delta)\n",
    "scores = []\n",
    "\n",
    "for angle in angles:\n",
    "    hist, score = find_score(img, angle)\n",
    "    scores.append(score)\n",
    "    "
   ]
  },
  {
   "cell_type": "code",
   "execution_count": 4,
   "id": "proprietary-graphic",
   "metadata": {},
   "outputs": [
    {
     "name": "stdout",
     "output_type": "stream",
     "text": [
      "Best angle: { 4 }\n"
     ]
    }
   ],
   "source": [
    "best_score = max(scores)\n",
    "best_angle = angles[scores.index(best_score)]\n",
    "print('Best angle: {',(best_angle),'}')"
   ]
  },
  {
   "cell_type": "code",
   "execution_count": 5,
   "id": "comparable-tension",
   "metadata": {},
   "outputs": [
    {
     "name": "stderr",
     "output_type": "stream",
     "text": [
      "C:\\Users\\david\\AppData\\Local\\Temp\\ipykernel_8872\\2442634522.py:2: DeprecationWarning: Please use `rotate` from the `scipy.ndimage` namespace, the `scipy.ndimage.interpolation` namespace is deprecated.\n",
      "  data = inter.rotate(img, best_angle, reshape=False, order=0)\n"
     ]
    }
   ],
   "source": [
    "# correct skew\n",
    "data = inter.rotate(img, best_angle, reshape=False, order=0)"
   ]
  },
  {
   "cell_type": "code",
   "execution_count": 6,
   "id": "oriental-ballot",
   "metadata": {},
   "outputs": [],
   "source": [
    "img = im.fromarray((255 * data).astype(\"uint8\"))"
   ]
  },
  {
   "cell_type": "code",
   "execution_count": 7,
   "id": "governmental-journey",
   "metadata": {},
   "outputs": [],
   "source": [
    "img.save('skew_corrected.png')"
   ]
  },
  {
   "cell_type": "code",
   "execution_count": 8,
   "id": "f139982d",
   "metadata": {},
   "outputs": [],
   "source": [
    "data = plt.imread('skew_corrected.png')"
   ]
  },
  {
   "cell_type": "code",
   "execution_count": 9,
   "id": "dynamic-dynamics",
   "metadata": {},
   "outputs": [
    {
     "data": {
      "text/plain": [
       "<matplotlib.image.AxesImage at 0x215d502ecb0>"
      ]
     },
     "execution_count": 9,
     "metadata": {},
     "output_type": "execute_result"
    },
    {
     "data": {
      "image/png": "[encoded data removed]",
      "text/plain": [
       "<Figure size 432x288 with 1 Axes>"
      ]
     },
     "metadata": {
      "needs_background": "light"
     },
     "output_type": "display_data"
    }
   ],
   "source": [
    "plt.imshow(data, interpolation='lanczos', cmap = \"Greys\")"
   ]
  }
 ],
 "metadata": {
  "kernelspec": {
   "display_name": "Python 3 (ipykernel)",
   "language": "python",
   "name": "python3"
  },
  "language_info": {
   "codemirror_mode": {
    "name": "ipython",
    "version": 3
   },
   "file_extension": ".py",
   "mimetype": "text/x-python",
   "name": "python",
   "nbconvert_exporter": "python",
   "pygments_lexer": "ipython3",
   "version": "3.10.4"
  }
 },
 "nbformat": 4,
 "nbformat_minor": 5
}
