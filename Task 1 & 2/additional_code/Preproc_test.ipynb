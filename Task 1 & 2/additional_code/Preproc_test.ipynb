{
 "cells": [
  {
   "cell_type": "code",
   "execution_count": 1,
   "id": "floppy-burning",
   "metadata": {},
   "outputs": [
    {
     "name": "stderr",
     "output_type": "stream",
     "text": [
      "Unable to determine R home: [WinError 2] The system cannot find the file specified\n",
      "Unable to determine R library path: Command '('C:\\\\Program Files\\\\R\\\\R-4.1.2\\\\bin\\\\Rscript', '-e', 'cat(Sys.getenv(\"LD_LIBRARY_PATH\"))')' returned non-zero exit status 1.\n",
      "R[write to console]: Installing package into 'C:/Users/david/Documents/R/win-library/4.1'\n",
      "(as 'lib' is unspecified)\n",
      "\n",
      "R[write to console]: trying URL 'http://cran.us.r-project.org/bin/windows/contrib/4.1/opencv_0.2.2.zip'\n",
      "\n",
      "R[write to console]: Content type 'application/zip'\n",
      "R[write to console]:  length 11042632 bytes (10.5 MB)\n",
      "\n",
      "R[write to console]: downloaded 10.5 MB\n",
      "\n",
      "\n"
     ]
    },
    {
     "name": "stdout",
     "output_type": "stream",
     "text": [
      "package 'opencv' successfully unpacked and MD5 sums checked\n",
      "\n",
      "The downloaded binary packages are in\n",
      "\tC:\\Users\\david\\AppData\\Local\\Temp\\Rtmp6f07A2\\downloaded_packages\n"
     ]
    },
    {
     "name": "stderr",
     "output_type": "stream",
     "text": [
      "R[write to console]: Installing package into 'C:/Users/david/Documents/R/win-library/4.1'\n",
      "(as 'lib' is unspecified)\n",
      "\n",
      "R[write to console]: trying URL 'http://cran.us.r-project.org/bin/windows/contrib/4.1/magick_2.7.3.zip'\n",
      "\n",
      "R[write to console]: Content type 'application/zip'\n",
      "R[write to console]:  length 33808927 bytes (32.2 MB)\n",
      "\n",
      "R[write to console]: downloaded 32.2 MB\n",
      "\n",
      "\n"
     ]
    },
    {
     "name": "stdout",
     "output_type": "stream",
     "text": [
      "package 'magick' successfully unpacked and MD5 sums checked\n",
      "\n",
      "The downloaded binary packages are in\n",
      "\tC:\\Users\\david\\AppData\\Local\\Temp\\Rtmp6f07A2\\downloaded_packages\n"
     ]
    },
    {
     "name": "stderr",
     "output_type": "stream",
     "text": [
      "R[write to console]: Installing package into 'C:/Users/david/Documents/R/win-library/4.1'\n",
      "(as 'lib' is unspecified)\n",
      "\n",
      "R[write to console]: trying URL 'http://cran.us.r-project.org/bin/windows/contrib/4.1/image.textlinedetector_0.1.5.zip'\n",
      "\n",
      "R[write to console]: Content type 'application/zip'\n",
      "R[write to console]:  length 9734518 bytes (9.3 MB)\n",
      "\n",
      "R[write to console]: downloaded 9.3 MB\n",
      "\n",
      "\n"
     ]
    },
    {
     "name": "stdout",
     "output_type": "stream",
     "text": [
      "package 'image.textlinedetector' successfully unpacked and MD5 sums checked\n",
      "\n",
      "The downloaded binary packages are in\n",
      "\tC:\\Users\\david\\AppData\\Local\\Temp\\Rtmp6f07A2\\downloaded_packages\n"
     ]
    },
    {
     "name": "stderr",
     "output_type": "stream",
     "text": [
      "R[write to console]: Linking to ImageMagick 6.9.12.3\n",
      "Enabled features: cairo, freetype, fftw, ghostscript, heic, lcms, pango, raw, rsvg, webp\n",
      "Disabled features: fontconfig, x11\n",
      "\n"
     ]
    },
    {
     "name": "stdout",
     "output_type": "stream",
     "text": [
      "- Detecting lines location.. ==> 9 areas found.\n",
      "- A* path planning algorithm..\n",
      "\tline #1 - from [1486, 0] to [1486, 2704]\n",
      "\tline #2 - from [1645, 0] to [1645, 2704]\n",
      "\tline #3 - from [1808, 0] to [1808, 2704]\n",
      "\tline #4 - from [1971, 0] to [1971, 2704]\n",
      "\tline #5 - from [2136, 0] to [2136, 2704]\n",
      "\tline #6 - from [2308, 0] to [2308, 2704]\n",
      "\tline #7 - from [2464, 0] to [2464, 2704]\n",
      "\tline #8 - from [2617, 0] to [2617, 2704]\n",
      "Dealing with file ./Preproc_Outputs/P168-Fg016-R-C01-R01-binarized.jpg/line1.jpg\n",
      "Dealing with file ./Preproc_Outputs/P168-Fg016-R-C01-R01-binarized.jpg/line2.jpg\n",
      "Dealing with file ./Preproc_Outputs/P168-Fg016-R-C01-R01-binarized.jpg/line3.jpg\n",
      "Dealing with file ./Preproc_Outputs/P168-Fg016-R-C01-R01-binarized.jpg/line4.jpg\n",
      "Dealing with file ./Preproc_Outputs/P168-Fg016-R-C01-R01-binarized.jpg/line5.jpg\n",
      "Dealing with file ./Preproc_Outputs/P168-Fg016-R-C01-R01-binarized.jpg/line6.jpg\n",
      "Dealing with file ./Preproc_Outputs/P168-Fg016-R-C01-R01-binarized.jpg/line7.jpg\n",
      "Dealing with file ./Preproc_Outputs/P168-Fg016-R-C01-R01-binarized.jpg/line8.jpg\n",
      "Dealing with file ./Preproc_Outputs/P168-Fg016-R-C01-R01-binarized.jpg/line9.jpg\n"
     ]
    }
   ],
   "source": [
    "#importing packages\n",
    "import rpy2.robjects as robjects\n",
    "import os\n",
    "import cv2\n",
    "import numpy as np\n",
    "import matplotlib.pyplot as plt\n",
    "\n",
    "#preparing output directiories\n",
    "rootdir = './Preproc_Outputs/'\n",
    "rootdir2 = './Preproc_Outputs/combined'\n",
    "os.makedirs(rootdir, exist_ok=True)\n",
    "os.makedirs(rootdir2, exist_ok=True)\n",
    "\n",
    "#loading and running the R script containing A* algorithm for line segmentation \n",
    "r = robjects.r\n",
    "r.source('A-star.R')  \n",
    "\n",
    "#iterate over lines segmented in previous step and prepare them for the model\n",
    "for root, dirs, files in os.walk(rootdir):\n",
    "    outpath = (f\"{root}/Cropped/\")\n",
    "    if \"combined\" in dirs:\n",
    "        dirs.remove(\"combined\")\n",
    "    if \"Cropped\" in dirs:\n",
    "        dirs.remove(\"Cropped\")\n",
    "    for file in files:\n",
    "        # Preparing output directory\n",
    "        os.makedirs(outpath, exist_ok=True)\n",
    "        print(f\"Dealing with file {root}/{file}\")\n",
    "        img_directory = (f\"{root}/{file}\")\n",
    "        # Loading image\n",
    "        img = cv2.imread(str(img_directory))\n",
    "        # Creating a grayscale image to find bounding boxes to crop by \n",
    "        gray = cv2.cvtColor(img, cv2.COLOR_BGR2GRAY)\n",
    "        # To invert the text to white\n",
    "        gray = 255*(gray < 50).astype(np.uint8)\n",
    "        # Perform noise filtering\n",
    "        gray = cv2.morphologyEx(gray, cv2.MORPH_OPEN, np.ones((2, 2), dtype=np.uint8)) \n",
    "        # Find all non-zero points (text)\n",
    "        coords = cv2.findNonZero(gray) \n",
    "        # Find minimum spanning bounding box\n",
    "        x, y, w, h = cv2.boundingRect(coords)  \n",
    "        # Crop the image - we do this on the original image\n",
    "        rect = img[y:y+h, x:x+w]\n",
    "        # Resize image to desired size for model\n",
    "        res = cv2.resize(rect, dsize=(499,60), interpolation=cv2.INTER_LANCZOS4)\n",
    "        # Save image with a single channel\n",
    "        cv2.imwrite(os.path.join(outpath,file),res[:, :, 1])"
   ]
  }
 ],
 "metadata": {
  "kernelspec": {
   "display_name": "Python 3 (ipykernel)",
   "language": "python",
   "name": "python3"
  },
  "language_info": {
   "codemirror_mode": {
    "name": "ipython",
    "version": 3
   },
   "file_extension": ".py",
   "mimetype": "text/x-python",
   "name": "python",
   "nbconvert_exporter": "python",
   "pygments_lexer": "ipython3",
   "version": "3.10.4"
  }
 },
 "nbformat": 4,
 "nbformat_minor": 5
}
